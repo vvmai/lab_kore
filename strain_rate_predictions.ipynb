{
 "cells": [
  {
   "cell_type": "code",
   "execution_count": 41,
   "metadata": {},
   "outputs": [],
   "source": [
    "import math\n",
    "import numpy as np\n",
    "import scipy.integrate as integrate\n",
    "import matplotlib.pyplot as plt"
   ]
  },
  {
   "cell_type": "markdown",
   "metadata": {},
   "source": [
    "### Assumptions"
   ]
  },
  {
   "cell_type": "code",
   "execution_count": 42,
   "metadata": {},
   "outputs": [],
   "source": [
    "g = 9.81 # gravitational acceleration [m/s^2]\n",
    "R = 8.3145 # gas constant [J/Kmol]\n",
    "\n",
    "rho_cc = 2850 # density of continental crust [kg/m^3]\n",
    "\n",
    "cm = 200000 # thickness of continental  mantle [m]\n",
    "cc = 35000 # thickenss of continental crust [m]"
   ]
  },
  {
   "cell_type": "code",
   "execution_count": 43,
   "metadata": {},
   "outputs": [],
   "source": [
    "compensation_depth = cc + cm # compensation depth\n",
    "\n",
    "initial_depth = 0\n",
    "depth_increment = 1000\n",
    "final_depth = compensation_depth+depth_increment\n",
    "z = list(range(initial_depth,final_depth,depth_increment)) # depth [m]"
   ]
  },
  {
   "cell_type": "markdown",
   "metadata": {},
   "source": [
    "### Calculating the rate of radiogenic heat production $H$\n",
    "#### Present day Earth"
   ]
  },
  {
   "cell_type": "code",
   "execution_count": 44,
   "metadata": {},
   "outputs": [
    {
     "name": "stdout",
     "output_type": "stream",
     "text": [
      "Rate of radiogenic heat production: 3.30e-10 [W/Kg]\n"
     ]
    }
   ],
   "source": [
    "K_con = ((1.5*10**4)/10**6)\n",
    "K40_con = (1.28/10**4)*K_con\n",
    "U_con = (1.3/10**6)\n",
    "U238_con = 0.9927*U_con\n",
    "U235_con = 0.0072*U_con\n",
    "Th_con = (5.6/10**6)\n",
    "\n",
    "K_heat = (2.79/10**5)*K40_con\n",
    "U238_heat = (9.37/10**5)*U238_con\n",
    "U235_heat = (5.69/10**4)*U235_con\n",
    "Th_heat = (2.69/10**5)*Th_con\n",
    "\n",
    "H = K_heat+Th_heat+U238_heat+U235_heat # rate of radiogenic heat production [W/kg]\n",
    "print(\"Rate of radiogenic heat production: %.2e [W/Kg]\"%H)"
   ]
  },
  {
   "cell_type": "markdown",
   "metadata": {},
   "source": [
    "#### Archean Earth"
   ]
  },
  {
   "cell_type": "code",
   "execution_count": 45,
   "metadata": {},
   "outputs": [
    {
     "name": "stdout",
     "output_type": "stream",
     "text": [
      "H(t) at t = 3.5 Ga: 9.28e-10 [W/Kg]\n"
     ]
    }
   ],
   "source": [
    "t = 3.5 # [Gyr]\n",
    "K_con = ((1.5*10**4)/10**6)\n",
    "K40_con = (1.28/10**4)*K_con*math.exp(0.555*t)\n",
    "\n",
    "U_con = (1.3/10**6)\n",
    "U238_con = 0.9927*U_con*math.exp(0.155*t)\n",
    "U235_con = 0.0072*U_con*math.exp(0.985*t)\n",
    "\n",
    "Th_con = (5.6/10**6)*math.exp(0.0495*t)\n",
    "\n",
    "K_heat = (2.79/10**5)*K40_con\n",
    "U238_heat = (9.37/10**5)*U238_con\n",
    "U235_heat = (5.69/10**4)*U235_con\n",
    "Th_heat = (2.69/10**5)*Th_con\n",
    "\n",
    "H_archean = K_heat+Th_heat+U238_heat+U235_heat # rate of radiogenic heat production [W/kg]\n",
    "print(\"H(t) at t = %.1f Ga: %.2e [W/Kg]\"%(t, H_archean))"
   ]
  },
  {
   "cell_type": "markdown",
   "metadata": {},
   "source": [
    "### Calculating Earth's geotherm\n",
    "Starting with the heat equation\n",
    "$$0 = k\\frac{d^2T}{dz^2}+\\rho H$$\n",
    "\n",
    "where $H$ is rate of internal heat production ($W/kg$)."
   ]
  },
  {
   "cell_type": "markdown",
   "metadata": {},
   "source": [
    "Integrate to get:\n",
    "$$C = k\\frac{dT}{dz}+\\rho Hz$$\n",
    "\n",
    "Integrate again:\n",
    "$$D+Cz = kT + \\frac{1}{2}\\rho Hz^2$$\n",
    "\n",
    "$$T = \\frac{Cz}{k}-\\frac{1}{2k}\\rho Hz^2 + \\frac{D}{k}$$\n",
    "\n",
    "From the boundary condition that $T(z=0) = 0$, we have $D = 0$. The temperature gradient within the continental crust is:\n",
    "\n",
    "$$T_1 = \\frac{C_1}{k_1}z_1-\\frac{1}{2k_1}\\rho_1 Hz_1^2$$\n",
    "\n",
    "where $C_1$ is the surface heat flow (from boundary condition $z = 0$)"
   ]
  },
  {
   "cell_type": "markdown",
   "metadata": {},
   "source": [
    "The temperature at the base of the continental lithosphere is:\n",
    "$$T_m = T_p + (d_{cc}+d_{cm})\\left(\\frac{\\partial T}{\\partial z}\\right)$$"
   ]
  },
  {
   "cell_type": "code",
   "execution_count": 46,
   "metadata": {},
   "outputs": [
    {
     "name": "stdout",
     "output_type": "stream",
     "text": [
      "Assuming continental crustal thickness of 35 [km] and continental lithospheric mantle thickness of 200 [km]\n",
      "Mantle temperature: 1467 [C]\n",
      "Archean mantle temperature: 1717 [C]\n"
     ]
    }
   ],
   "source": [
    "T_p = 1350 # potential temperature for the current Earth [C]\n",
    "T_p_archean = 1600 # potential temperature of the Archean earth [C]\n",
    "dT_dz = 0.5 # adiabatic gradient [K/km]\n",
    "cc=35000 # thickness of continental crust\n",
    "T_m = T_p + (cc+cm)/1000*dT_dz\n",
    "T_m_archean = T_p_archean + (cc+cm)/1000*dT_dz\n",
    "print(\"Assuming continental crustal thickness of %i [km] and continental lithospheric mantle thickness of %i [km]\"%((cc/1000),(cm/1000)))\n",
    "print(\"Mantle temperature: %i [C]\"%T_m)\n",
    "print(\"Archean mantle temperature: %i [C]\"%T_m_archean)"
   ]
  },
  {
   "cell_type": "markdown",
   "metadata": {},
   "source": [
    "where the temperature potential of the mantle $T_p$ is $\\sim 1350^{\\circ}$C (now) and $1600^{\\circ}$C (Archean)\n",
    "\n",
    "We assume that the adiabatic gradient $\\left(\\frac{\\partial T}{\\partial z}\\right) \\sim 0.5$ K/km\n",
    "\n",
    "Thus, $T_m \\sim 1470^{\\circ}$C (now) and $\\sim 1720^{\\circ}$C (Archean)"
   ]
  },
  {
   "cell_type": "markdown",
   "metadata": {},
   "source": [
    "The temperature gradient below the continental crust is:\n",
    "$$T_2 = \\frac{C_2}{k_2}z_2+D_2$$\n",
    "\n",
    "We have three unknowns ($C_1$, $C_2$, $D_2$) and three boundary conditions.\n",
    "\n",
    "At $z_1 = z_2 = d_{cc}$, we require that:\n",
    "$$T_1 = T_2$$\n",
    "\n",
    "$$k_1\\frac{dT_1}{dz_1} = k_2\\frac{dT_2}{dz_1}$$\n",
    "\n",
    "at $z_2 = d_{cc}+d_{cm}$, we have:\n",
    "$$T_2 = T_m$$"
   ]
  },
  {
   "cell_type": "markdown",
   "metadata": {},
   "source": [
    "1) Using $k_1\\frac{dT_1}{dz_1} = k_2\\frac{dT_2}{dz_1}$:\n",
    "\n",
    "$$C_1-\\rho_1 Hz\\Bigg\\vert_{z = z_1} = C_2\\Bigg\\vert_{z=z_1}$$\n",
    "\n",
    "$$C_1-\\rho_1 Hz_1 = C_2$$\n",
    "\n",
    "2) Using $T_1 = T_2$:\n",
    "$$\\frac{C_1}{k_1}z_1 - \\frac{1}{2k_1}\\rho_1 Hz_1^2 = \\frac{C_2}{k_2}z_1 + D_2$$\n",
    "\n",
    "3) Using $T_2 = T_m$:\n",
    "$$\\frac{C_2}{k_2}z_2 + D_2 = T_m$$"
   ]
  },
  {
   "cell_type": "markdown",
   "metadata": {},
   "source": [
    "Combining (2) and (3):\n",
    "$$D_2 = T_m - \\frac{C_2}{k_2}z_2$$\n",
    "\n",
    "$$\\frac{C_1}{k_1}z_1 - \\frac{1}{2k_1}\\rho_1 Hz_1^2 = \\frac{C_2}{k_2}z_1 + T_m - \\frac{C_2}{k_2}z_2$$\n",
    "\n",
    "Writing $C_1$ in terms of $C_2$:\n",
    "$$C_1 = \\frac{C_2k_1}{k_2} - \\frac{C_2k_1}{k_2}\\frac{z_2}{z_1} + \\frac{T_mk_1}{z_1} + \\frac{1}{2}\\rho_1 Hz_1$$\n",
    "\n",
    "Solving for $C_2$ in (1):\n",
    "$$C_1 = C_2 +\\rho_1 Hz_1$$\n",
    "\n",
    "$$C_2 + \\rho_1 Hz_1 = \\frac{C_2k_1}{k_2} - \\frac{C_2k_1}{k_2}\\frac{z_2}{z_1} + \\frac{T_mk_1}{z_1} + \\frac{1}{2}\\rho_1 Hz_1$$\n",
    "\n",
    "$$C_2 - \\frac{C_2k_1}{k_2} + \\frac{C_2k_1}{k_2}\\frac{z_2}{z_1}= \\frac{T_mk_1}{z_1} - \\frac{1}{2}\\rho_1 Hz_1$$\n",
    "\n",
    "\n",
    "$$C_2\\left(1 - \\frac{k_1}{k_2} + \\frac{k_1}{k_2}\\frac{z_2}{z_1}\\right) = \\frac{T_mk_1}{z_1} - \\frac{1}{2}\\rho_1 Hz_1$$\n",
    "\n",
    "$$C_2 = \\frac{\\left(\\frac{T_mk_1}{z_1} - \\frac{1}{2}\\rho_1 Hz_1\\right)}{\\left(1 - \\frac{k_1}{k_2} + \\frac{k_1}{k_2}\\frac{z_2}{z_1}\\right)}$$"
   ]
  },
  {
   "cell_type": "code",
   "execution_count": 47,
   "metadata": {},
   "outputs": [
    {
     "name": "stdout",
     "output_type": "stream",
     "text": [
      "C_2 = 0.02\n",
      "C_2 archean = 0.02\n"
     ]
    }
   ],
   "source": [
    "k_1 = 3.0 # Thermal conductivity of the crustal layer [W/mK] (assume constant)\n",
    "k_2 = 3.0 # Thermal conductivity of the upper mantle\n",
    "numerator = (T_m*k_1)/cc - (1/2)*rho_cc*H*cc\n",
    "denominator = 1 - (k_1/k_2) + (k_1/k_2)*((cc+cm)/cc)\n",
    "C_2 = numerator/denominator\n",
    "print(\"C_2 = %.2f\"%C_2)\n",
    "numerator = (T_m_archean*k_1)/cc - (1/2)*rho_cc*H_archean*cc\n",
    "denominator = 1 - (k_1/k_2) + (k_1/k_2)*((cc+cm)/cc)\n",
    "C_2_archean = numerator/denominator\n",
    "print(\"C_2 archean = %.2f\"%C_2_archean)"
   ]
  },
  {
   "cell_type": "markdown",
   "metadata": {},
   "source": [
    "calculating $C_1$ from $C_2$:\n",
    "$$C_1 = C_2 +\\rho_1 Hz_1$$"
   ]
  },
  {
   "cell_type": "code",
   "execution_count": 48,
   "metadata": {},
   "outputs": [
    {
     "name": "stdout",
     "output_type": "stream",
     "text": [
      "C_1 (surface heat flow): 0.05\n",
      "C_1 archean: 0.11\n"
     ]
    }
   ],
   "source": [
    "C_1 = C_2+rho_cc*H*cc\n",
    "print(\"C_1 (surface heat flow): %.2f\"%C_1)\n",
    "C_1_archean = C_2_archean+rho_cc*H_archean*cc\n",
    "print(\"C_1 archean: %.2f\"%C_1_archean)"
   ]
  },
  {
   "cell_type": "markdown",
   "metadata": {},
   "source": [
    "calculating $D$ from $C_2$:\n",
    "$$D_2 = T_m - \\frac{C_2}{k_2}z_2$$"
   ]
  },
  {
   "cell_type": "code",
   "execution_count": 49,
   "metadata": {},
   "outputs": [
    {
     "name": "stdout",
     "output_type": "stream",
     "text": [
      "D_2 = 382.21\n",
      "D_2 archean = 715.46\n"
     ]
    }
   ],
   "source": [
    "D_2 = T_m-(C_2*(cm))/k_2\n",
    "print(\"D_2 = %.2f\"%D_2)\n",
    "D_2_archean = T_m_archean-(C_2_archean*(cm))/k_2\n",
    "print(\"D_2 archean = %.2f\"%D_2_archean)"
   ]
  },
  {
   "cell_type": "code",
   "execution_count": 72,
   "metadata": {},
   "outputs": [],
   "source": [
    "def calc_geotherm(z,C_1,C_2,D_2,H):\n",
    "    \"\"\"\n",
    "    Calculates the geothermal gradient up to depth (z),\n",
    "    (for now) assuming that thermal conductivity is constant\n",
    "    and that values for the crust and mantle are both k = 3.0\n",
    "    \"\"\"\n",
    "    T = np.ones(len(z))\n",
    "    T_0 = 273 # surface temperature [K]\n",
    "    \n",
    "    # index of end of crustal layer\n",
    "    i = int(np.where(z==cc)[0])\n",
    "    # temperature within the crust \n",
    "    for j, z_1 in enumerate(z[:i]):\n",
    "        T[j] = T_0 + (C_1*z_1)/k_1  - ((rho_cc*H*z_1**2)/(2*k_1))\n",
    "    # temperature below the crust\n",
    "    for m, z_2 in enumerate(z[i:]):\n",
    "        T[m+j+1] = ((z_2-cc)/k_2)*C_2 + D_2 + T_0\n",
    "    return T"
   ]
  },
  {
   "cell_type": "code",
   "execution_count": 73,
   "metadata": {},
   "outputs": [
    {
     "data": {
      "text/plain": [
       "<Figure size 432x288 with 0 Axes>"
      ]
     },
     "metadata": {},
     "output_type": "display_data"
    },
    {
     "data": {
      "image/png": "[encoded data removed]",
      "text/plain": [
       "<Figure size 360x504 with 1 Axes>"
      ]
     },
     "metadata": {
      "needs_background": "light"
     },
     "output_type": "display_data"
    }
   ],
   "source": [
    "z = np.array(range(initial_depth,cc+cm,depth_increment))# depth [m]\n",
    "T = calc_geotherm(z,C_1,C_2,D_2,H)\n",
    "T_archean = calc_geotherm(z,C_1_archean,C_2_archean,D_2_archean,H_archean)\n",
    "plt.figure(4)\n",
    "plt.figure(figsize=(5,7))\n",
    "plt.plot(T-273,[-i/1000 for i in z])\n",
    "plt.plot(T_archean-273,[-i/1000 for i in z])\n",
    "plt.xlabel('Temperature [C]')\n",
    "plt.ylabel('Depth [km]')\n",
    "plt.legend(['Present day','Archean'])\n",
    "plt.show()"
   ]
  },
  {
   "cell_type": "markdown",
   "metadata": {},
   "source": [
    "### Predicting strain rates"
   ]
  },
  {
   "cell_type": "code",
   "execution_count": 104,
   "metadata": {},
   "outputs": [],
   "source": [
    "sigma = 42 # differential pressure [MPa]\n",
    "C_OH = 4500 # water content [H/10^6 Si]\n",
    "f_H2O = 4500 # water fugacity [MPa]"
   ]
  },
  {
   "cell_type": "markdown",
   "metadata": {},
   "source": [
    "#### Present day Earth"
   ]
  },
  {
   "cell_type": "code",
   "execution_count": 116,
   "metadata": {},
   "outputs": [],
   "source": [
    "# Rutter & Brodie (2004) inversion results\n",
    "e_RB = 10**(-5.2)*sigma**(3.5)*np.exp(np.divide(-208000,np.multiply(R,T)))\n",
    "# Gleason & Tullis (1995)\n",
    "e_GT = 10**(-6.7)*sigma**(3.9)*np.exp(np.divide(-145000,np.multiply(R,T)))\n",
    "# Luan & Paterson (1992)\n",
    "e_LP = 10**(-11.2)*sigma**(3.4)*C_OH**(1.1)*np.exp(np.divide(-138000,np.multiply(R,T)))\n",
    "# Fukuda et al. (2018)\n",
    "e_F = 10**(-19.7)*sigma**(3.6)*f_H2O**(1.9)*np.exp(np.divide(-30000,np.multiply(R,T)))\n",
    "\n",
    "# number of flow laws\n",
    "n = 4\n",
    "\n",
    "e = [[]]*n\n",
    "e[0] = e_RB\n",
    "e[1] = e_GT\n",
    "e[2] = e_LP\n",
    "e[3] = e_F"
   ]
  },
  {
   "cell_type": "code",
   "execution_count": 117,
   "metadata": {},
   "outputs": [
    {
     "name": "stdout",
     "output_type": "stream",
     "text": [
      "Differential pressure: 42 [MPa]\n"
     ]
    },
    {
     "data": {
      "image/png": "[encoded data removed]",
      "text/plain": [
       "<Figure size 360x504 with 1 Axes>"
      ]
     },
     "metadata": {
      "needs_background": "light"
     },
     "output_type": "display_data"
    }
   ],
   "source": [
    "plt.figure(figsize=(5,7))\n",
    "for strain_rate in e:\n",
    "    plt.semilogx(strain_rate,-z/1000)\n",
    "    plt.ylim((-40,0))\n",
    "plt.legend(['RB04','GT95','LP92','F18'])\n",
    "plt.xlabel('Strain rate [s^-1]')\n",
    "plt.ylabel('Depth [km]')\n",
    "plt.title('Strain rate vs. Depth')\n",
    "print('Differential pressure: %i [MPa]'%sigma)"
   ]
  },
  {
   "cell_type": "markdown",
   "metadata": {},
   "source": [
    "#### Archean Earth"
   ]
  },
  {
   "cell_type": "code",
   "execution_count": 118,
   "metadata": {},
   "outputs": [],
   "source": [
    "e_RB = 10**(-5.2)*sigma**(3.5)*np.exp(np.divide(-208000,np.multiply(R,T_archean)))\n",
    "e_GT = 10**(-6.7)*sigma**(3.9)*np.exp(np.divide(-145000,np.multiply(R,T_archean)))\n",
    "e_LP = 10**(-11.2)*sigma**(3.4)*C_OH**(1.1)*np.exp(np.divide(-138000,np.multiply(R,T_archean)))\n",
    "e_F = 10**(-19.7)*sigma**(3.6)*f_H2O**(1.9)*np.exp(np.divide(-30000,np.multiply(R,T_archean)))\n",
    "\n",
    "e = [[]]*n\n",
    "e[0] = e_RB\n",
    "e[1] = e_GT\n",
    "e[2] = e_LP\n",
    "e[3] = e_F"
   ]
  },
  {
   "cell_type": "code",
   "execution_count": 119,
   "metadata": {},
   "outputs": [
    {
     "name": "stdout",
     "output_type": "stream",
     "text": [
      "Differential pressure: 42 [MPa]\n"
     ]
    },
    {
     "data": {
      "image/png": "[encoded data removed]",
      "text/plain": [
       "<Figure size 360x504 with 1 Axes>"
      ]
     },
     "metadata": {
      "needs_background": "light"
     },
     "output_type": "display_data"
    }
   ],
   "source": [
    "plt.figure(figsize=(5,7))\n",
    "for strain_rate in e:\n",
    "    plt.semilogx(strain_rate,-z/1000)\n",
    "    plt.ylim((-40,0))\n",
    "plt.legend(['RB04','GT95','LP92','F18'])\n",
    "plt.xlabel('Strain rate [s^-1]')\n",
    "plt.ylabel('Depth [km]')\n",
    "plt.title('Strain rate vs. Depth (Archean)')\n",
    "print('Differential pressure: %i [MPa]'%sigma)"
   ]
  },
  {
   "cell_type": "code",
   "execution_count": null,
   "metadata": {},
   "outputs": [],
   "source": []
  }
 ],
 "metadata": {
  "kernelspec": {
   "display_name": "Python 3",
   "language": "python",
   "name": "python3"
  },
  "language_info": {
   "codemirror_mode": {
    "name": "ipython",
    "version": 3
   },
   "file_extension": ".py",
   "mimetype": "text/x-python",
   "name": "python",
   "nbconvert_exporter": "python",
   "pygments_lexer": "ipython3",
   "version": "3.8.3"
  }
 },
 "nbformat": 4,
 "nbformat_minor": 4
}
